{
  "nbformat": 4,
  "nbformat_minor": 0,
  "metadata": {
    "colab": {
      "name": "TGO.ipynb",
      "provenance": []
    },
    "kernelspec": {
      "name": "python3",
      "display_name": "Python 3"
    },
    "language_info": {
      "name": "python"
    }
  },
  "cells": [
    {
      "cell_type": "markdown",
      "source": [
        "# Declare Array (Random Number Sequence)"
      ],
      "metadata": {
        "id": "xRABS4SMkeO1"
      }
    },
    {
      "cell_type": "code",
      "source": [
        "arraySoal = [4,1,13,7,0,2,8,11,3]\n",
        "arr1 = [10, 22, 9, 33, 21, 50, 41, 60]\n",
        "arr2 = [15, 13, 14, 16, 17, 19 ,20]\n",
        "arr3 = [5, 4, 6, 7, 9 ,2]"
      ],
      "metadata": {
        "id": "O09x9-aEkQk4"
      },
      "execution_count": 45,
      "outputs": []
    },
    {
      "cell_type": "markdown",
      "source": [
        "# Lmis and Recursion Function"
      ],
      "metadata": {
        "id": "mWnhgfCupJXf"
      }
    },
    {
      "cell_type": "code",
      "source": [
        "global maxlength\n",
        "\n",
        "def recursionlmis(arr, n):\n",
        "  global maxlength\n",
        "\n",
        "  # Base Case\n",
        "  if n == 1:\n",
        "    return 1\n",
        "    \n",
        "  maxEndingHere = 1\n",
        "\n",
        "  for i in range(1, n):\n",
        "    res = recursionlmis(arr, i)\n",
        "    if arr[i-1] < arr[n-1] and res+1 > maxEndingHere:\n",
        "      maxEndingHere = res + 1\n",
        "  maxlength = max(maxlength, maxEndingHere)\n",
        "  return maxEndingHere\n",
        "\n",
        "\n",
        "def lmis(arr):\n",
        "  global maxlength\n",
        "  n = len(arr)\n",
        "  maxlength = 1\n",
        "  recursionlmis(arr, n)\n",
        "  print(\"Array = {}\".format(arr))\n",
        "  return \"Longest Monotonically Increasing Subsequence = {}\".format(maxlength)"
      ],
      "metadata": {
        "id": "PIxxYAOFkRSO"
      },
      "execution_count": 46,
      "outputs": []
    },
    {
      "cell_type": "markdown",
      "source": [
        "# Test the Function"
      ],
      "metadata": {
        "id": "IYMYizDppT9y"
      }
    },
    {
      "cell_type": "code",
      "source": [
        "print(lmis(arraySoal))"
      ],
      "metadata": {
        "colab": {
          "base_uri": "https://localhost:8080/"
        },
        "id": "ck_sj7Dumr0p",
        "outputId": "1d17e046-9d47-4b7d-821b-62edd3a27fa4"
      },
      "execution_count": 47,
      "outputs": [
        {
          "output_type": "stream",
          "name": "stdout",
          "text": [
            "Array = [4, 1, 13, 7, 0, 2, 8, 11, 3]\n",
            "Longest Monotonically Increasing Subsequence = 4\n"
          ]
        }
      ]
    },
    {
      "cell_type": "code",
      "source": [
        "print(lmis(arr1))\n",
        "print(lmis(arr2))\n",
        "print(lmis(arr3))"
      ],
      "metadata": {
        "id": "dlx2Ney_nPzh",
        "colab": {
          "base_uri": "https://localhost:8080/"
        },
        "outputId": "2eda0aa6-9609-43f3-bf55-7f441fb457fb"
      },
      "execution_count": 48,
      "outputs": [
        {
          "output_type": "stream",
          "name": "stdout",
          "text": [
            "Array = [10, 22, 9, 33, 21, 50, 41, 60]\n",
            "Longest Monotonically Increasing Subsequence = 5\n",
            "Array = [15, 13, 14, 16, 17, 19, 20]\n",
            "Longest Monotonically Increasing Subsequence = 6\n",
            "Array = [5, 4, 6, 7, 9, 2]\n",
            "Longest Monotonically Increasing Subsequence = 4\n"
          ]
        }
      ]
    },
    {
      "cell_type": "code",
      "source": [
        ""
      ],
      "metadata": {
        "id": "90HmFggy2asT"
      },
      "execution_count": null,
      "outputs": []
    }
  ]
}